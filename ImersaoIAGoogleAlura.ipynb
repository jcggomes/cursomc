{
  "nbformat": 4,
  "nbformat_minor": 0,
  "metadata": {
    "colab": {
      "provenance": [],
      "authorship_tag": "ABX9TyPvrMyoiev/cYz7w7nIGh0O",
      "include_colab_link": true
    },
    "kernelspec": {
      "name": "python3",
      "display_name": "Python 3"
    },
    "language_info": {
      "name": "python"
    }
  },
  "cells": [
    {
      "cell_type": "markdown",
      "metadata": {
        "id": "view-in-github",
        "colab_type": "text"
      },
      "source": [
        "<a href=\"https://colab.research.google.com/github/jcggomes/cursomc/blob/master/ImersaoIAGoogleAlura.ipynb\" target=\"_parent\"><img src=\"https://colab.research.google.com/assets/colab-badge.svg\" alt=\"Open In Colab\"/></a>"
      ]
    },
    {
      "cell_type": "code",
      "source": [
        "#Trazendo a biblioteca capaz de realizar requisições\n",
        "import requests\n",
        "import random\n",
        "url = 'https://raw.githubusercontent.com/guilhermeonrails/api-imersao-ia/main/words.json'\n",
        "resposta = requests.get(url)\n",
        "data = resposta.json()\n",
        "len(data)\n",
        "data[0]\n",
        "valor_secreto = random.choice(data)\n",
        "palavra_secreta = valor_secreto['palavra']\n",
        "dica = valor_secreto['dica']\n",
        "print(f'A palavra secreta tem {len(palavra_secreta)} letras')\n",
        "print(f'A dica é -> {dica}')\n",
        "chute = input('O que você acha que é: ')\n",
        "if chute == palavra_secreta:\n",
        "    print('Acertou')\n",
        "else:\n",
        "    print(f'Errou... a palavra secreta era {palavra_secreta}')"
      ],
      "metadata": {
        "colab": {
          "base_uri": "https://localhost:8080/"
        },
        "id": "iCP5XmgRnveT",
        "outputId": "e36e24b5-1b12-4eb3-afc7-d770cb0e50de"
      },
      "execution_count": 9,
      "outputs": [
        {
          "output_type": "stream",
          "name": "stdout",
          "text": [
            "A palavra secreta tem 3 letras\n",
            "A dica é -> desenvolver software de sistema, jogos e aplicações de alto desempenho.\n",
            "O que você acha que é: java\n",
            "Errou... a palavra secreta era c++\n"
          ]
        }
      ]
    }
  ]
}